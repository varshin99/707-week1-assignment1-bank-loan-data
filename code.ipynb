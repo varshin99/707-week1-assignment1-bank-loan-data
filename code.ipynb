{
  "cells": [
    {
      "cell_type": "code",
      "execution_count": 1,
      "metadata": {
        "id": "zxyxR2n4zLXs"
      },
      "outputs": [],
      "source": [
        "# Import necessary libraries\n",
        "import numpy as np\n",
        "import pandas as pd\n",
        "import seaborn as sns\n",
        "import matplotlib.pyplot as plt"
      ]
    },
    {
      "cell_type": "code",
      "source": [
        "df=pd.read_csv(\"/content/bank-additional-full.csv\",sep=';')\n",
        "# Load the bank dataset using ';' as the delimiter"
      ],
      "metadata": {
        "colab": {
          "base_uri": "https://localhost:8080/",
          "height": 251
        },
        "id": "8qH0olFYzQPb",
        "outputId": "05b30c1a-7328-49fa-f73a-774777cd819a"
      },
      "execution_count": 2,
      "outputs": [
        {
          "output_type": "error",
          "ename": "ParserError",
          "evalue": "ignored",
          "traceback": [
            "\u001b[0;31m---------------------------------------------------------------------------\u001b[0m",
            "\u001b[0;31mParserError\u001b[0m                               Traceback (most recent call last)",
            "\u001b[0;32m<ipython-input-2-fdcf15f5ee26>\u001b[0m in \u001b[0;36m<cell line: 1>\u001b[0;34m()\u001b[0m\n\u001b[0;32m----> 1\u001b[0;31m \u001b[0mdf\u001b[0m\u001b[0;34m=\u001b[0m\u001b[0mpd\u001b[0m\u001b[0;34m.\u001b[0m\u001b[0mread_csv\u001b[0m\u001b[0;34m(\u001b[0m\u001b[0;34m\"/content/bank-additional-full.csv\"\u001b[0m\u001b[0;34m,\u001b[0m\u001b[0msep\u001b[0m\u001b[0;34m=\u001b[0m\u001b[0;34m';'\u001b[0m\u001b[0;34m)\u001b[0m\u001b[0;34m\u001b[0m\u001b[0;34m\u001b[0m\u001b[0m\n\u001b[0m\u001b[1;32m      2\u001b[0m \u001b[0;31m# Load the bank dataset using ';' as the delimiter\u001b[0m\u001b[0;34m\u001b[0m\u001b[0;34m\u001b[0m\u001b[0m\n",
            "\u001b[0;32m/usr/local/lib/python3.10/dist-packages/pandas/util/_decorators.py\u001b[0m in \u001b[0;36mwrapper\u001b[0;34m(*args, **kwargs)\u001b[0m\n\u001b[1;32m    209\u001b[0m                 \u001b[0;32melse\u001b[0m\u001b[0;34m:\u001b[0m\u001b[0;34m\u001b[0m\u001b[0;34m\u001b[0m\u001b[0m\n\u001b[1;32m    210\u001b[0m                     \u001b[0mkwargs\u001b[0m\u001b[0;34m[\u001b[0m\u001b[0mnew_arg_name\u001b[0m\u001b[0;34m]\u001b[0m \u001b[0;34m=\u001b[0m \u001b[0mnew_arg_value\u001b[0m\u001b[0;34m\u001b[0m\u001b[0;34m\u001b[0m\u001b[0m\n\u001b[0;32m--> 211\u001b[0;31m             \u001b[0;32mreturn\u001b[0m \u001b[0mfunc\u001b[0m\u001b[0;34m(\u001b[0m\u001b[0;34m*\u001b[0m\u001b[0margs\u001b[0m\u001b[0;34m,\u001b[0m \u001b[0;34m**\u001b[0m\u001b[0mkwargs\u001b[0m\u001b[0;34m)\u001b[0m\u001b[0;34m\u001b[0m\u001b[0;34m\u001b[0m\u001b[0m\n\u001b[0m\u001b[1;32m    212\u001b[0m \u001b[0;34m\u001b[0m\u001b[0m\n\u001b[1;32m    213\u001b[0m         \u001b[0;32mreturn\u001b[0m \u001b[0mcast\u001b[0m\u001b[0;34m(\u001b[0m\u001b[0mF\u001b[0m\u001b[0;34m,\u001b[0m \u001b[0mwrapper\u001b[0m\u001b[0;34m)\u001b[0m\u001b[0;34m\u001b[0m\u001b[0;34m\u001b[0m\u001b[0m\n",
            "\u001b[0;32m/usr/local/lib/python3.10/dist-packages/pandas/util/_decorators.py\u001b[0m in \u001b[0;36mwrapper\u001b[0;34m(*args, **kwargs)\u001b[0m\n\u001b[1;32m    329\u001b[0m                     \u001b[0mstacklevel\u001b[0m\u001b[0;34m=\u001b[0m\u001b[0mfind_stack_level\u001b[0m\u001b[0;34m(\u001b[0m\u001b[0;34m)\u001b[0m\u001b[0;34m,\u001b[0m\u001b[0;34m\u001b[0m\u001b[0;34m\u001b[0m\u001b[0m\n\u001b[1;32m    330\u001b[0m                 )\n\u001b[0;32m--> 331\u001b[0;31m             \u001b[0;32mreturn\u001b[0m \u001b[0mfunc\u001b[0m\u001b[0;34m(\u001b[0m\u001b[0;34m*\u001b[0m\u001b[0margs\u001b[0m\u001b[0;34m,\u001b[0m \u001b[0;34m**\u001b[0m\u001b[0mkwargs\u001b[0m\u001b[0;34m)\u001b[0m\u001b[0;34m\u001b[0m\u001b[0;34m\u001b[0m\u001b[0m\n\u001b[0m\u001b[1;32m    332\u001b[0m \u001b[0;34m\u001b[0m\u001b[0m\n\u001b[1;32m    333\u001b[0m         \u001b[0;31m# error: \"Callable[[VarArg(Any), KwArg(Any)], Any]\" has no\u001b[0m\u001b[0;34m\u001b[0m\u001b[0;34m\u001b[0m\u001b[0m\n",
            "\u001b[0;32m/usr/local/lib/python3.10/dist-packages/pandas/io/parsers/readers.py\u001b[0m in \u001b[0;36mread_csv\u001b[0;34m(filepath_or_buffer, sep, delimiter, header, names, index_col, usecols, squeeze, prefix, mangle_dupe_cols, dtype, engine, converters, true_values, false_values, skipinitialspace, skiprows, skipfooter, nrows, na_values, keep_default_na, na_filter, verbose, skip_blank_lines, parse_dates, infer_datetime_format, keep_date_col, date_parser, dayfirst, cache_dates, iterator, chunksize, compression, thousands, decimal, lineterminator, quotechar, quoting, doublequote, escapechar, comment, encoding, encoding_errors, dialect, error_bad_lines, warn_bad_lines, on_bad_lines, delim_whitespace, low_memory, memory_map, float_precision, storage_options)\u001b[0m\n\u001b[1;32m    948\u001b[0m     \u001b[0mkwds\u001b[0m\u001b[0;34m.\u001b[0m\u001b[0mupdate\u001b[0m\u001b[0;34m(\u001b[0m\u001b[0mkwds_defaults\u001b[0m\u001b[0;34m)\u001b[0m\u001b[0;34m\u001b[0m\u001b[0;34m\u001b[0m\u001b[0m\n\u001b[1;32m    949\u001b[0m \u001b[0;34m\u001b[0m\u001b[0m\n\u001b[0;32m--> 950\u001b[0;31m     \u001b[0;32mreturn\u001b[0m \u001b[0m_read\u001b[0m\u001b[0;34m(\u001b[0m\u001b[0mfilepath_or_buffer\u001b[0m\u001b[0;34m,\u001b[0m \u001b[0mkwds\u001b[0m\u001b[0;34m)\u001b[0m\u001b[0;34m\u001b[0m\u001b[0;34m\u001b[0m\u001b[0m\n\u001b[0m\u001b[1;32m    951\u001b[0m \u001b[0;34m\u001b[0m\u001b[0m\n\u001b[1;32m    952\u001b[0m \u001b[0;34m\u001b[0m\u001b[0m\n",
            "\u001b[0;32m/usr/local/lib/python3.10/dist-packages/pandas/io/parsers/readers.py\u001b[0m in \u001b[0;36m_read\u001b[0;34m(filepath_or_buffer, kwds)\u001b[0m\n\u001b[1;32m    609\u001b[0m \u001b[0;34m\u001b[0m\u001b[0m\n\u001b[1;32m    610\u001b[0m     \u001b[0;32mwith\u001b[0m \u001b[0mparser\u001b[0m\u001b[0;34m:\u001b[0m\u001b[0;34m\u001b[0m\u001b[0;34m\u001b[0m\u001b[0m\n\u001b[0;32m--> 611\u001b[0;31m         \u001b[0;32mreturn\u001b[0m \u001b[0mparser\u001b[0m\u001b[0;34m.\u001b[0m\u001b[0mread\u001b[0m\u001b[0;34m(\u001b[0m\u001b[0mnrows\u001b[0m\u001b[0;34m)\u001b[0m\u001b[0;34m\u001b[0m\u001b[0;34m\u001b[0m\u001b[0m\n\u001b[0m\u001b[1;32m    612\u001b[0m \u001b[0;34m\u001b[0m\u001b[0m\n\u001b[1;32m    613\u001b[0m \u001b[0;34m\u001b[0m\u001b[0m\n",
            "\u001b[0;32m/usr/local/lib/python3.10/dist-packages/pandas/io/parsers/readers.py\u001b[0m in \u001b[0;36mread\u001b[0;34m(self, nrows)\u001b[0m\n\u001b[1;32m   1776\u001b[0m                     \u001b[0mcolumns\u001b[0m\u001b[0;34m,\u001b[0m\u001b[0;34m\u001b[0m\u001b[0;34m\u001b[0m\u001b[0m\n\u001b[1;32m   1777\u001b[0m                     \u001b[0mcol_dict\u001b[0m\u001b[0;34m,\u001b[0m\u001b[0;34m\u001b[0m\u001b[0;34m\u001b[0m\u001b[0m\n\u001b[0;32m-> 1778\u001b[0;31m                 \u001b[0;34m)\u001b[0m \u001b[0;34m=\u001b[0m \u001b[0mself\u001b[0m\u001b[0;34m.\u001b[0m\u001b[0m_engine\u001b[0m\u001b[0;34m.\u001b[0m\u001b[0mread\u001b[0m\u001b[0;34m(\u001b[0m  \u001b[0;31m# type: ignore[attr-defined]\u001b[0m\u001b[0;34m\u001b[0m\u001b[0;34m\u001b[0m\u001b[0m\n\u001b[0m\u001b[1;32m   1779\u001b[0m                     \u001b[0mnrows\u001b[0m\u001b[0;34m\u001b[0m\u001b[0;34m\u001b[0m\u001b[0m\n\u001b[1;32m   1780\u001b[0m                 )\n",
            "\u001b[0;32m/usr/local/lib/python3.10/dist-packages/pandas/io/parsers/c_parser_wrapper.py\u001b[0m in \u001b[0;36mread\u001b[0;34m(self, nrows)\u001b[0m\n\u001b[1;32m    228\u001b[0m         \u001b[0;32mtry\u001b[0m\u001b[0;34m:\u001b[0m\u001b[0;34m\u001b[0m\u001b[0;34m\u001b[0m\u001b[0m\n\u001b[1;32m    229\u001b[0m             \u001b[0;32mif\u001b[0m \u001b[0mself\u001b[0m\u001b[0;34m.\u001b[0m\u001b[0mlow_memory\u001b[0m\u001b[0;34m:\u001b[0m\u001b[0;34m\u001b[0m\u001b[0;34m\u001b[0m\u001b[0m\n\u001b[0;32m--> 230\u001b[0;31m                 \u001b[0mchunks\u001b[0m \u001b[0;34m=\u001b[0m \u001b[0mself\u001b[0m\u001b[0;34m.\u001b[0m\u001b[0m_reader\u001b[0m\u001b[0;34m.\u001b[0m\u001b[0mread_low_memory\u001b[0m\u001b[0;34m(\u001b[0m\u001b[0mnrows\u001b[0m\u001b[0;34m)\u001b[0m\u001b[0;34m\u001b[0m\u001b[0;34m\u001b[0m\u001b[0m\n\u001b[0m\u001b[1;32m    231\u001b[0m                 \u001b[0;31m# destructive to chunks\u001b[0m\u001b[0;34m\u001b[0m\u001b[0;34m\u001b[0m\u001b[0m\n\u001b[1;32m    232\u001b[0m                 \u001b[0mdata\u001b[0m \u001b[0;34m=\u001b[0m \u001b[0m_concatenate_chunks\u001b[0m\u001b[0;34m(\u001b[0m\u001b[0mchunks\u001b[0m\u001b[0;34m)\u001b[0m\u001b[0;34m\u001b[0m\u001b[0;34m\u001b[0m\u001b[0m\n",
            "\u001b[0;32m/usr/local/lib/python3.10/dist-packages/pandas/_libs/parsers.pyx\u001b[0m in \u001b[0;36mpandas._libs.parsers.TextReader.read_low_memory\u001b[0;34m()\u001b[0m\n",
            "\u001b[0;32m/usr/local/lib/python3.10/dist-packages/pandas/_libs/parsers.pyx\u001b[0m in \u001b[0;36mpandas._libs.parsers.TextReader._read_rows\u001b[0;34m()\u001b[0m\n",
            "\u001b[0;32m/usr/local/lib/python3.10/dist-packages/pandas/_libs/parsers.pyx\u001b[0m in \u001b[0;36mpandas._libs.parsers.TextReader._tokenize_rows\u001b[0;34m()\u001b[0m\n",
            "\u001b[0;32m/usr/local/lib/python3.10/dist-packages/pandas/_libs/parsers.pyx\u001b[0m in \u001b[0;36mpandas._libs.parsers.raise_parser_error\u001b[0;34m()\u001b[0m\n",
            "\u001b[0;31mParserError\u001b[0m: Error tokenizing data. C error: EOF inside string starting at row 29543"
          ]
        }
      ]
    },
    {
      "cell_type": "code",
      "source": [
        "df.head()\n",
        "#getting info of first few columns in dataframe using head function."
      ],
      "metadata": {
        "id": "Y4--50xFygti"
      },
      "execution_count": null,
      "outputs": []
    },
    {
      "cell_type": "code",
      "source": [
        "df.info()\n",
        "#provides a summary of a pandas DataFrame"
      ],
      "metadata": {
        "id": "C_SpDs4UzXW3"
      },
      "execution_count": null,
      "outputs": []
    },
    {
      "cell_type": "code",
      "source": [
        "df.isna().sum()\n",
        "# Calculated and displayed the number of missing values for each column in 'df'"
      ],
      "metadata": {
        "id": "WaXTqw42zaBI"
      },
      "execution_count": null,
      "outputs": []
    },
    {
      "cell_type": "code",
      "source": [
        "df.describe().transpose()\n",
        "# Transposed the summary statistics of a DataFrame for easier column-wise reading.\n"
      ],
      "metadata": {
        "id": "5ku0NlU9zcGM"
      },
      "execution_count": null,
      "outputs": []
    },
    {
      "cell_type": "code",
      "source": [
        "df[df.duplicated(keep=False)]\n",
        "# Filtered and displayed all rows in the DataFrame that have duplicate values, including both the first occurrence and subsequent occurrences.\n"
      ],
      "metadata": {
        "id": "BBRE0b0qzfqS"
      },
      "execution_count": null,
      "outputs": []
    },
    {
      "cell_type": "code",
      "source": [
        "df.drop_duplicates(inplace=True)\n",
        "# Removed all duplicate rows from the DataFrame in-place.\n",
        "df[df.duplicated(keep=False)]\n",
        "# Afterwards, filtered and attempted to display any remaining duplicate rows.\n"
      ],
      "metadata": {
        "id": "G3-AUz0T8My-"
      },
      "execution_count": null,
      "outputs": []
    },
    {
      "cell_type": "code",
      "source": [
        "sns.countplot(data=df, x='job', hue='y', order=df['job'].value_counts().index)\n",
        "plt.title('Job distribution of customers')\n",
        "plt.xlabel('Type of job')\n",
        "plt.ylabel('No of customers')\n",
        "plt.xticks(rotation=45)\n",
        "plt.show()\n",
        "\n",
        "# Using Seaborn, ploted a count plot displaying the distribution of customers based on their job type,\n",
        "# further categorized by the 'y' (subscribed to term deposit or not) column. Ordered the bars based on the frequency of job types.\n",
        "# Set chart title, labels for the x and y axes, rotate x-tick labels by 45 degrees, and displayed the plot.\n",
        "\n",
        "\n",
        "\"\"\"\n",
        "This dataset represents the number of individuals contacted during direct marketing phone campaigns by a\n",
        "Portuguese banking institution, segmented by their job roles and whether they accepted a term deposit. The\n",
        "\"admin.\" category had the most contacts, with 10,419 individuals, followed by \"blue-collar\" and \"technician\"\n",
        "roles. The least contacted category was labeled \"unknown\", with only 330 individuals. Across all categories,\n",
        " only a small fraction of the contacted individuals subscribed to the term deposit. Students alone have\n",
        " shown up in good numbers in the subscription policy with repect to no of students conatacted.\n",
        "\"\"\"\n"
      ],
      "metadata": {
        "id": "xdDirLXc9AHc"
      },
      "execution_count": null,
      "outputs": []
    },
    {
      "cell_type": "code",
      "source": [
        "sns.countplot(data=df, x='education', hue='y', order=df['education'].value_counts().index)\n",
        "plt.title('Distribution of Customers by education')\n",
        "plt.xlabel('education')\n",
        "plt.ylabel('Number of Customers')\n",
        "plt.xticks(rotation=45)\n",
        "plt.show()\n",
        "#Plotted the same graph this time for education status\n",
        "\"\"\"\n",
        "This dataset represents the number of individuals contacted during direct marketing phone campaigns\n",
        "by a Portuguese banking institution, segmented by their educational level and whether they accepted\n",
        "a term deposit. The category \"university.degree\" had the most contacts, with 12,164 individuals,\n",
        "followed by \"high.school\" with 9,512, and then \"basic.9y\" with 6,045 individuals. The least contacted\n",
        "education level was \"illiterate\", with only 18 individuals. Across all educational levels, only a small\n",
        "fraction of the contacted individuals subscribed to the term deposit.\n",
        "\"\"\""
      ],
      "metadata": {
        "id": "SQ3E1EtfBBqz"
      },
      "execution_count": null,
      "outputs": []
    },
    {
      "cell_type": "code",
      "source": [
        "sns.countplot(data=df, x='marital', hue='y', order=df['marital'].value_counts().index)\n",
        "plt.title('Distribution of Customers by marital status')\n",
        "plt.xlabel('marital')\n",
        "plt.ylabel('Number of Customers')\n",
        "plt.xticks(rotation=45)\n",
        "plt.show()\n",
        "#Plotted the same graph this time for education status\n",
        "\"\"\"\n",
        "This dataset represents the number of individuals contacted during direct marketing phone\n",
        "campaigns by a Portuguese banking institution, segmented by their marital status and whether\n",
        "they accepted a term deposit. The \"married\" category had the most contacts, with 24,921 individuals,\n",
        "followed by \"single\" with 11,564, and then \"divorced\" with 4,611 individuals. The least contacted category\n",
        "was labeled \"unknown\", with only 80 individuals. Across all marital statuses, only a small fraction of the\n",
        "contacted individuals subscribed to the term deposit.\n",
        "\"\"\""
      ],
      "metadata": {
        "id": "DIIDIiF6F4js"
      },
      "execution_count": null,
      "outputs": []
    },
    {
      "cell_type": "code",
      "source": [
        "plt.figure(figsize=(10,6))\n",
        "# Create a histogram (known as a distplot in Seaborn) for the age colum\n",
        "sns.histplot(df['age'],kde=True,bins=20,color='skyblue')\n",
        "plt.title('Age Distribution of Customers')\n",
        "plt.xlabel('Age')\n",
        "plt.ylabel('Number of Customers')\n",
        "plt.show()\n",
        "\"\"\"\n",
        "This distribution appears to be right-skewed. Most notably,\n",
        "the age group between 30 and 40 was contacted the most frequently.\n",
        "Given the nature of the data, this may suggest that the bank perceives\n",
        "individuals within this age bracket as potential prime candidates for subscribing to their term deposit offering.\n",
        "\"\"\""
      ],
      "metadata": {
        "id": "i4jNnyoNMLk1"
      },
      "execution_count": null,
      "outputs": []
    },
    {
      "cell_type": "code",
      "source": [
        "# List of columns for which you want pie charts\n",
        "columns_to_plot = ['contact', 'loan','housing','default','month','day_of_week']\n",
        "\n",
        "# Colors for each chart\n",
        "colors_list = [['lightblue', 'lightcoral'],\n",
        "               ['lightblue', 'lightcoral', 'lightgreen'],\n",
        "               ['lightblue', 'lightcoral','lightgreen'],\n",
        "               ['lightblue', 'lightcoral','lightgreen'],\n",
        "               ['lightblue', 'lightcoral', 'lightgreen', 'gold', 'lavender','lightsalmon', 'lightpink', 'lightyellow', 'lightsteelblue',\n",
        "               'lime','linen', 'magenta'],\n",
        "               ['lightblue', 'lightcoral', 'lightgreen', 'gold', 'lavender']]\n",
        "plt.figure(figsize=(10,50))\n",
        "for idx,column in enumerate(columns_to_plot):\n",
        "  counts = df[column].value_counts()\n",
        "  labels = counts.index\n",
        "  sizes = counts.values\n",
        "\n",
        "  plt.subplot(len(columns_to_plot),1,idx+1)\n",
        "  plt.pie(sizes, labels=labels, colors=colors_list[idx], autopct='%1.1f%%', shadow=True, startangle=140)\n",
        "  plt.title(column)\n",
        "  plt.axis('equal')\n",
        "\"\"\"\n",
        "From the 1st pie-chart we can notice that\n",
        "cellular (0.634714): This indicates that approximately 63.47% of the clients in the dataset were contacted through\n",
        "a cellular phone as their mode of communication for the marketing campaigns.\n",
        "telephone (0.365286): This indicates that approximately 36.53% of the clients were contacted through a landline telephone.\n",
        "\n",
        "From the 2nd pie-chart we can notice that\n",
        "no (0.823978): This indicates that approximately 82.40% of the clients in the dataset do not have a personal loan.\n",
        "yes (0.151695): This suggests that approximately 15.17% of the clients have taken out a personal loan.\n",
        "unknown (0.024036): A small proportion, approximately 2.40% of the clients, have an unknown status regarding\n",
        "personal loans, meaning the bank does not have this specific information about these clients\n",
        "\n",
        "From the 3rd pie-chart we can notice that\n",
        "yes (0.523721): This indicates that approximately 52.37% of the clients in the dataset have a housing loan.\n",
        "no (0.451952): This suggests that about 45.20% of the clients do not have a housing loan.\n",
        "unknown (0.024036): A small proportion, approximately 2.40% of the clients, have an unknown status\n",
        "regarding housing loans. This suggests that the bank does not have this specific information for these clients.\n",
        "\n",
        "\n",
        "From the 4th pie-chart we can notice that\n",
        "no (0.790934): This data indicates that approximately 79.09% of the clients in the dataset have not defaulted on their credit.\n",
        "unknown (0.208702): A significant proportion, approximately 20.87% of the clients, have an unknown\n",
        "credit default history. This could mean that the bank does not possess this specific information about these clients\n",
        "or they might be new clients without a clear credit history.\n",
        "yes (0.000073): An extremely small fraction, approximately 0.0073% (or 0.73 clients in every 10,000) have defaulted\n",
        "on their credit. Given how small this percentage is, the bank might consider them as high-risk clients when considering\n",
        "new financial products.\n",
        "\n",
        "From the 5th pie-chart we can notice that\n",
        "may (0.334248): This suggests that approximately 33.42% of the clients in the dataset were last contacted in the month of May.\n",
        "jul (0.174056): About 17.41% of the clients were last contacted in July.\n",
        "aug (0.149947): This indicates that around 14.99% of the clients had their last contact in August.\n",
        "jun (0.129115): June saw 12.91% of the clients being contacted.\n",
        "nov (0.099544): In November, approximately 9.95% of the clients were contacted.\n",
        "apr (0.063878): About 6.39% of the clients were reached out to in April.\n",
        "oct (0.017408): October had a smaller proportion with 1.74% of the clients being contacted.\n",
        "sep (0.013839): September saw around 1.38% of the clients being contacted.\n",
        "mar (0.013256): Similarly, in March, around 1.33% of the clients were reached out to.\n",
        "dec (0.004419): December had the smallest proportion with just about 0.44% of the clients being contacted.\n",
        "\n",
        "From the 6th pie-chart we can notice that\n",
        "thu (0.209236): This suggests that approximately 20.92% of the clients in the dataset were last contacted on a Thursday.\n",
        "mon (0.206662): Close behind, about 20.67% of the clients were last contacted on a Monday.\n",
        "wed (0.197485): Wednesday saw 19.75% of the clients being contacted.\n",
        "tue (0.196319): On Tuesdays, around 19.63% of the clients were reached out to.\n",
        "fri (0.190007): Lastly, about 19.00% of the clients were contacted on a Friday.\n",
        "\n",
        "\"\"\"\n"
      ],
      "metadata": {
        "id": "UmBw_QOQv9AN"
      },
      "execution_count": null,
      "outputs": []
    },
    {
      "cell_type": "code",
      "source": [
        "columns_to_plot = ['contact', 'loan','housing','default','month','day_of_week']\n",
        "for idx,column in enumerate(columns_to_plot):\n",
        "\n",
        "  normalized_data = df.groupby(column)['y'].value_counts().unstack().apply(lambda x: x/x.sum(), axis=1)\n",
        "  print(\"*****\"+str(idx+1)+\")\"+column)\n",
        "  print(normalized_data)\n",
        "\n",
        "#1)Cellular Contact:\n",
        "#No (0.852611): Approximately 85.26% of the clients who were contacted via a cellular phone declined the offer for a term deposit.\n",
        "#Yes (0.147389): Approximately 14.74% of the clients who were contacted via a cellular phone agreed to subscribe to a term deposit.\n",
        "#Telephone Contact:\n",
        "#No (0.947676): Approximately 94.77% of the clients who were contacted via a landline telephone declined the offer for a term deposit.\n",
        "#Yes (0.052324): Only about 5.23% of the clients contacted through a landline telephone agreed to subscribe to a term deposit.\n",
        "#From this data, we can draw several conclusions:\n",
        "#Higher Success with Cellular Contact: There's a higher rate of positive responses (subscriptions)\n",
        "#from clients when they are contacted via cellular phones compared to landline telephones. Nearly 15%\n",
        "#of cellular contacts led to subscriptions, while only around 5% of telephone contacts did.\n",
        "\n",
        "#2)Personal loan\n",
        "#This data shows the customer taking a personal loan  or not doesnt affect the chance of him/her subscribing for term deposit\n",
        "\n",
        "#3)housing loan\n",
        "#This data shows the customer taking a hosuing loan  or not doesnt affect the chance of him/her subscribing for term deposit\n",
        "\n",
        "#4)default\n",
        "#people with no default credit seem to subscribe for term deposit.\n",
        "\n",
        "#5)month\n",
        "#High Success in December and March: Notably, December and March have the closest ratios of acceptance to rejection,\n",
        "#with almost half of the clients agreeing to the term deposit. This could be due to year-end financial planning in December and\n",
        "#financial year-end considerations in March.\n",
        "#Lowest Conversion in May,june,jul,aug,april,nov: these months have the lowest success rate with only about 6.44% of clients agreeing for\n",
        "#the deposit.\n",
        "#The bank might need to re-evaluate their strategy for these month\n",
        "#Moderate Success in october and september:The bank can target these months apart from december and march to get customers\n",
        "#sign the subscriptions\n",
        "\n",
        "#6)dayofweek\n",
        "#This data shows the customers last contact day of the week doesnt affect the chance of him/her subscribing for term deposit"
      ],
      "metadata": {
        "id": "jGf4XZDkWR5A"
      },
      "execution_count": null,
      "outputs": []
    },
    {
      "cell_type": "code",
      "source": [
        "plt.figure(figsize=(20,30))\n",
        "column=['emp.var.rate', 'cons.price.idx',\n",
        "       'cons.conf.idx', 'euribor3m', 'nr.employed']\n",
        "#plotting the boxplots\n",
        "for i,x in enumerate(column):\n",
        "    plt.subplot(3,3,i+1)\n",
        "    sns.boxplot(data=df[x],color='r')\n",
        "    plt.title(f'BoxPlot For {x[0].upper()+x[1:]}',fontsize=20)\n",
        "    plt.xlabel(f'{x[0].upper()+x[1:]}',fontsize=20)\n",
        "    plt.ylabel('Value',fontsize=20)"
      ],
      "metadata": {
        "id": "uDHSwDSj2yMy"
      },
      "execution_count": null,
      "outputs": []
    },
    {
      "cell_type": "code",
      "source": [
        "corr=df.corr()\n",
        "plt.figure(figsize=(10,10))\n",
        "#Genrated a heatmap using seaborn\n",
        "sns.heatmap(corr, annot=True, cmap='coolwarm', vmin=-1, vmax=1)\n",
        "plt.title('Correlation Heatmap')\n",
        "plt.show()\n",
        "#From heatmap we can notice that\n",
        "#High Positive Correlation:\n",
        "\n",
        "#emp.var.rate and euribor3m: 0.972244. This indicates that the employee variation rate and the euribor 3 month rate move almost\n",
        "#in unison. As one increases, the other is also likely to increase.\n",
        "#emp.var.rate and nr.employed: 0.906949. The employee variation rate and the number of employees are also positively correlated.\n",
        "#euribor3m and nr.employed: 0.945146. The euribor 3 month rate and the number of employees are strongly positively correlated.\n",
        "#emp.var.rate and cons.price.idx: 0.775293. The employee variation rate and the consumer price index have a positive correlation.\n",
        "#cons.price.idx and euribor3m: 0.688180. The consumer price index and the euribor 3 month rate are positively correlated.\n",
        "\n",
        "#High Negative Correlation:\n",
        "#pdays and previous: -0.587508. The number of days since the last contact and the number of times a client was contacted before\n",
        "#this campaign have a negative correlation.\n",
        "#previous and emp.var.rate: -0.420587. The number of times a client was contacted before this campaign and the employee\n",
        "#variation rate are inversely correlated.\n",
        "#previous and euribor3m: -0.454571. The number of times a client was contacted before this campaign and the euribor 3\n",
        "#month rate also have a negative correlation.\n",
        "#previous and nr.employed: -0.501411. The number of times a client was contacted before this campaign and the number\n",
        "#of employees are inversely related.\n",
        "\n",
        "#Columns to Consider for Combination or Elimination:\n",
        "#euribor3m and nr.employed (correlation: 0.945146) and emp.var.rate and nr.employed (correlation: 0.906949) are  pairs that are highly\n",
        "#correlated. When two or more variables are highly correlated, they might convey similar information, and hence, retaining all of\n",
        "#them might not add much value.\n",
        "#It's worth noting that before eliminating any columns, it's important to understand the business context and significance\n",
        "#of each column. Also, while high correlation means that two variables move in tandem, it doesn't necessarily imply causation.\n"
      ],
      "metadata": {
        "id": "khjrB_Pl_Lu3"
      },
      "execution_count": null,
      "outputs": []
    },
    {
      "cell_type": "code",
      "source": [
        "corr"
      ],
      "metadata": {
        "colab": {
          "base_uri": "https://localhost:8080/",
          "height": 175
        },
        "id": "V39C6OLXBKH9",
        "outputId": "17eeccec-1f34-4097-9aad-1ac4e42f9d91"
      },
      "execution_count": 3,
      "outputs": [
        {
          "output_type": "error",
          "ename": "NameError",
          "evalue": "ignored",
          "traceback": [
            "\u001b[0;31m---------------------------------------------------------------------------\u001b[0m",
            "\u001b[0;31mNameError\u001b[0m                                 Traceback (most recent call last)",
            "\u001b[0;32m<ipython-input-3-a8784ddd4e15>\u001b[0m in \u001b[0;36m<cell line: 1>\u001b[0;34m()\u001b[0m\n\u001b[0;32m----> 1\u001b[0;31m \u001b[0mcorr\u001b[0m\u001b[0;34m\u001b[0m\u001b[0;34m\u001b[0m\u001b[0m\n\u001b[0m",
            "\u001b[0;31mNameError\u001b[0m: name 'corr' is not defined"
          ]
        }
      ]
    },
    {
      "cell_type": "code",
      "source": [
        "import pandas as pd\n",
        "from sklearn.preprocessing import StandardScaler, LabelEncoder\n",
        "\n",
        "df = pd.read_csv(\"/content/bank-additional-full.csv\", sep=';')\n",
        "\n",
        "# Convert categorical columns to numerical data\n",
        "label_encoders = {}\n",
        "for column in df.select_dtypes(include=['object']).columns:\n",
        "    le = LabelEncoder()\n",
        "    df[column] = le.fit_transform(df[column])\n",
        "    label_encoders[column] = le\n",
        "\n",
        "# Splitting the dataset into features (X) and target variable (y)\n",
        "X = df.drop('y', axis=1)\n",
        "y = df['y']\n",
        "\n",
        "# Scaling the features for logistic regression\n",
        "scaler = StandardScaler()\n",
        "X_scaled = scaler.fit_transform(X)\n"
      ],
      "metadata": {
        "id": "BVgUbeDmB4Za"
      },
      "execution_count": 4,
      "outputs": []
    },
    {
      "cell_type": "code",
      "source": [
        "from sklearn.model_selection import train_test_split\n",
        "\n",
        "X_train, X_test, y_train, y_test = train_test_split(X_scaled, y, test_size=0.2, random_state=42)\n"
      ],
      "metadata": {
        "id": "yqWlN2VgKUU5"
      },
      "execution_count": 5,
      "outputs": []
    },
    {
      "cell_type": "code",
      "source": [
        "from sklearn.linear_model import LogisticRegression\n",
        "from sklearn.metrics import classification_report, accuracy_score, confusion_matrix\n",
        "\n",
        "# Initialize and train the logistic regression model\n",
        "log_reg = LogisticRegression(random_state=42)\n",
        "log_reg.fit(X_train, y_train)\n",
        "\n",
        "# Predictions\n",
        "y_pred = log_reg.predict(X_test)\n"
      ],
      "metadata": {
        "id": "l7GKw9jCKXfQ"
      },
      "execution_count": 6,
      "outputs": []
    },
    {
      "cell_type": "code",
      "source": [
        "# Accuracy Score\n",
        "print(\"Accuracy:\", accuracy_score(y_test, y_pred))\n",
        "\n",
        "# Classification Report\n",
        "print(classification_report(y_test, y_pred))\n",
        "\n",
        "# Confusion Matrix\n",
        "print(confusion_matrix(y_test, y_pred))\n"
      ],
      "metadata": {
        "colab": {
          "base_uri": "https://localhost:8080/"
        },
        "id": "5RZ_5Q_rKZWy",
        "outputId": "bf8301f9-0d3d-40cc-c3a5-2ba0fa53c465"
      },
      "execution_count": 7,
      "outputs": [
        {
          "output_type": "stream",
          "name": "stdout",
          "text": [
            "Accuracy: 0.910536537994659\n",
            "              precision    recall  f1-score   support\n",
            "\n",
            "           0       0.93      0.97      0.95      7303\n",
            "           1       0.67      0.42      0.52       935\n",
            "\n",
            "    accuracy                           0.91      8238\n",
            "   macro avg       0.80      0.70      0.73      8238\n",
            "weighted avg       0.90      0.91      0.90      8238\n",
            "\n",
            "[[7108  195]\n",
            " [ 542  393]]\n"
          ]
        }
      ]
    },
    {
      "cell_type": "code",
      "source": [
        "import pandas as pd\n",
        "from sklearn.preprocessing import StandardScaler, LabelEncoder\n",
        "\n",
        "df = pd.read_csv(\"/content/bank-additional-full.csv\", sep=';')\n",
        "\n",
        "# Convert categorical columns to numerical data\n",
        "label_encoders = {}  # To keep our encoders for potential use later\n",
        "for column in df.select_dtypes(include=['object']).columns:\n",
        "    le = LabelEncoder()\n",
        "    df[column] = le.fit_transform(df[column])\n",
        "    label_encoders[column] = le\n",
        "\n",
        "# Scaling data for K-means (important due to distance-based calculations)\n",
        "scaler = StandardScaler()\n",
        "scaled_df = scaler.fit_transform(df)\n"
      ],
      "metadata": {
        "id": "SRH4oHfDKbX6"
      },
      "execution_count": 8,
      "outputs": []
    },
    {
      "cell_type": "code",
      "source": [
        "from sklearn.cluster import KMeans\n",
        "import matplotlib.pyplot as plt\n",
        "\n",
        "wcss = []  # Within-Cluster-Sum-of-Squares\n",
        "\n",
        "for i in range(1, 11):\n",
        "    kmeans = KMeans(n_clusters=i, init='k-means++', random_state=42)\n",
        "    kmeans.fit(scaled_df)\n",
        "    wcss.append(kmeans.inertia_)\n",
        "\n",
        "# Plotting the Elbow method graph\n",
        "plt.figure(figsize=(10, 5))\n",
        "plt.plot(range(1, 11), wcss, marker='o', linestyle='--')\n",
        "plt.title('Elbow Method')\n",
        "plt.xlabel('Number of clusters')\n",
        "plt.ylabel('WCSS')\n",
        "plt.show()\n"
      ],
      "metadata": {
        "id": "OV2ncY6oN7qP",
        "outputId": "7a803aef-10e1-4dd6-a2b9-8db16741dd8f",
        "colab": {
          "base_uri": "https://localhost:8080/",
          "height": 854
        }
      },
      "execution_count": 9,
      "outputs": [
        {
          "output_type": "stream",
          "name": "stderr",
          "text": [
            "/usr/local/lib/python3.10/dist-packages/sklearn/cluster/_kmeans.py:870: FutureWarning: The default value of `n_init` will change from 10 to 'auto' in 1.4. Set the value of `n_init` explicitly to suppress the warning\n",
            "  warnings.warn(\n",
            "/usr/local/lib/python3.10/dist-packages/sklearn/cluster/_kmeans.py:870: FutureWarning: The default value of `n_init` will change from 10 to 'auto' in 1.4. Set the value of `n_init` explicitly to suppress the warning\n",
            "  warnings.warn(\n",
            "/usr/local/lib/python3.10/dist-packages/sklearn/cluster/_kmeans.py:870: FutureWarning: The default value of `n_init` will change from 10 to 'auto' in 1.4. Set the value of `n_init` explicitly to suppress the warning\n",
            "  warnings.warn(\n",
            "/usr/local/lib/python3.10/dist-packages/sklearn/cluster/_kmeans.py:870: FutureWarning: The default value of `n_init` will change from 10 to 'auto' in 1.4. Set the value of `n_init` explicitly to suppress the warning\n",
            "  warnings.warn(\n",
            "/usr/local/lib/python3.10/dist-packages/sklearn/cluster/_kmeans.py:870: FutureWarning: The default value of `n_init` will change from 10 to 'auto' in 1.4. Set the value of `n_init` explicitly to suppress the warning\n",
            "  warnings.warn(\n",
            "/usr/local/lib/python3.10/dist-packages/sklearn/cluster/_kmeans.py:870: FutureWarning: The default value of `n_init` will change from 10 to 'auto' in 1.4. Set the value of `n_init` explicitly to suppress the warning\n",
            "  warnings.warn(\n",
            "/usr/local/lib/python3.10/dist-packages/sklearn/cluster/_kmeans.py:870: FutureWarning: The default value of `n_init` will change from 10 to 'auto' in 1.4. Set the value of `n_init` explicitly to suppress the warning\n",
            "  warnings.warn(\n",
            "/usr/local/lib/python3.10/dist-packages/sklearn/cluster/_kmeans.py:870: FutureWarning: The default value of `n_init` will change from 10 to 'auto' in 1.4. Set the value of `n_init` explicitly to suppress the warning\n",
            "  warnings.warn(\n",
            "/usr/local/lib/python3.10/dist-packages/sklearn/cluster/_kmeans.py:870: FutureWarning: The default value of `n_init` will change from 10 to 'auto' in 1.4. Set the value of `n_init` explicitly to suppress the warning\n",
            "  warnings.warn(\n",
            "/usr/local/lib/python3.10/dist-packages/sklearn/cluster/_kmeans.py:870: FutureWarning: The default value of `n_init` will change from 10 to 'auto' in 1.4. Set the value of `n_init` explicitly to suppress the warning\n",
            "  warnings.warn(\n"
          ]
        },
        {
          "output_type": "display_data",
          "data": {
            "text/plain": [
              "<Figure size 1000x500 with 1 Axes>"
            ],
            "image/png": "[encoded data removed]"
          },
          "metadata": {}
        }
      ]
    },
    {
      "cell_type": "code",
      "source": [
        "optimal_clusters = 3  # This can be adjusted based on the elbow method result\n",
        "kmeans = KMeans(n_clusters=optimal_clusters, init='k-means++', random_state=42)\n",
        "clustered_data = kmeans.fit_predict(scaled_df)\n",
        "\n",
        "df['Cluster'] = clustered_data\n"
      ],
      "metadata": {
        "id": "rgk1R11AN99R",
        "outputId": "0125559a-27e1-402b-b017-b9b8970be7bb",
        "colab": {
          "base_uri": "https://localhost:8080/"
        }
      },
      "execution_count": 10,
      "outputs": [
        {
          "output_type": "stream",
          "name": "stderr",
          "text": [
            "/usr/local/lib/python3.10/dist-packages/sklearn/cluster/_kmeans.py:870: FutureWarning: The default value of `n_init` will change from 10 to 'auto' in 1.4. Set the value of `n_init` explicitly to suppress the warning\n",
            "  warnings.warn(\n"
          ]
        }
      ]
    },
    {
      "cell_type": "code",
      "source": [],
      "metadata": {
        "id": "LFHVK79qOBSz"
      },
      "execution_count": null,
      "outputs": []
    }
  ],
  "metadata": {
    "language_info": {
      "name": "python"
    },
    "orig_nbformat": 4,
    "colab": {
      "provenance": []
    },
    "kernelspec": {
      "name": "python3",
      "display_name": "Python 3"
    }
  },
  "nbformat": 4,
  "nbformat_minor": 0
}